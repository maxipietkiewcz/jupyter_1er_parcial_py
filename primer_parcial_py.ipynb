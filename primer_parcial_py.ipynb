{
 "cells": [
  {
   "cell_type": "markdown",
   "metadata": {},
   "source": [
    "# Primer parcial: Python para ciencias de datos\n",
    "\n",
    "\n",
    "## 1) Preguntas teóricas\n",
    "\n",
    "1. ¿Qué es Python y por qué es popular en el análisis de datos? (0,5)\n",
    "2. ¿Para qué se usa la librería de Numpy?¿Y qué ventaja nos ofrece? (0,5)\n",
    "3. ¿Para qué nos sirve Pandas?¿Y qué tipos de objetos maneja? (0,5)\n",
    "4. ¿Qué es Matplotlib y cual es su uso?. Mencione un escenario real en donde lo\n",
    "usaría. (0,5)\n",
    "\n",
    "#### Resolucion\n",
    "\n",
    "1. Python es un lenguaje de programación, creado por Guido van Rossum y lanzado por primera vez en 1991, es de alto nivel, interpretado, interactivo, orientado a objetos. Es conocido por su sintaxis clara y sencilla, popular en diversos campos y uno de ellos es el análisis de datos. Básicamente por la amplia variedad de bibliotecas especializadas en el análisis de datos como NumPy, pandas, matplotlib y scikit-learn, que facilitan la manipulación, visualización y modelado de datos.\n",
    "\n",
    "2. Numpy es una biblioteca de python que se utiliza para realizar cálculos numéricos eficientemente. La ventaja de esta biblioteca es la facilidad de manejar datos numéricos y hacer cálculos, ya que trae diferentes funcionalidades como: Funciones matemáticas, Operaciones vectorizadas, Arrays numpy. \n",
    "\n",
    "3. Pandas es un paquete de Python que proporciona estructuras de datos rápidas, flexibles y expresivas diseñadas para que al trabajar con datos \"relacionales\" o \"etiquetados\" sea fácil e intuitivo. Pandas en Python manejan objetos como DataFrames para estructurar y analizar datos tabulares, y Series para manejar datos unidimensionales etiquetados.\n",
    "\n",
    "4. Matplotlib es el “abuelo” de las librerías de visualización de datos con Python. Fue creado por John Hunter. Su uso es la creación de gráficos en dos dimensiones para la visualización de datos.\n",
    "\n",
    "\n",
    "## 2) Ejercicios de algoritmia\n",
    "\n",
    "Estás trabajando en un programa que procesa listas, pero te enfrentas al desafío de\n",
    "eliminar los elementos duplicados de una lista, manteniendo el orden original.\n",
    "\n",
    "### Especificaciones de la Función:\n",
    "    ● Nombre de la funcion:\n",
    "            El nombre de la funcion debe ser \"eliminar_duplicados\"\n",
    "    ● Parametros: \n",
    "            lista (list): Una lista que puede contener elementos duplicados.\n",
    "    ● Retorno:\n",
    "            list: Una nueva lista que contiene los elementos de la lista original sin\n",
    "            duplicados, conservando el orden original.\n",
    "    ● Ejemplo: \n",
    "            La función eliminar_duplicados toma la lista [1, 2, 3, 4, 4, 5, 6, 6, 7] como\n",
    "            entrada y devuelve una nueva lista [1, 2, 3, 4, 5, 6, 7] sin elementos duplicados,\n",
    "            manteniendo el orden original.\n",
    "\n",
    "1. Definimos la lista de numeros y la guardamos en \"list\""
   ]
  },
  {
   "cell_type": "code",
   "execution_count": null,
   "metadata": {},
   "outputs": [],
   "source": [
    "list = [1, 2, 3, 4, 4, 5, 6, 6, 7]"
   ]
  },
  {
   "cell_type": "markdown",
   "metadata": {},
   "source": [
    "2. Creamos la funcion para eliminar lo numeros de la lista"
   ]
  },
  {
   "cell_type": "code",
   "execution_count": null,
   "metadata": {},
   "outputs": [],
   "source": [
    "def eliminar_duplicados(lista):\n",
    "    lista = (set(lista))\n",
    "    return lista"
   ]
  },
  {
   "cell_type": "markdown",
   "metadata": {},
   "source": [
    "3. Mostramos el resultado"
   ]
  },
  {
   "cell_type": "code",
   "execution_count": null,
   "metadata": {},
   "outputs": [],
   "source": [
    "print(eliminar_duplicados(list))"
   ]
  },
  {
   "cell_type": "markdown",
   "metadata": {},
   "source": [
    "## 3) Ejercicio de Pandas (2,5)\n",
    "\n",
    "Se proporcionará una lista de calificaciones de los estudiantes y su tarea es realizar\n",
    "análisis estadístico y visualización de datos.\n",
    "\n",
    "● Calcular el promedio de calificaciones para cada asignatura y mostrarlo.\n",
    "\n",
    "● Encuentra a los estudiantes que tienen las calificaciones más altas en cada\n",
    "asignatura y mostralos junto con sus respectivas calificaciones.\n",
    "\n",
    "● Calcular el porcentaje de estudiantes que aprobaron cada asignatura (con una\n",
    "calificación igual o superior a 60) y mostrar los resultados.\n",
    "\n",
    "● Crear un DataFrame que incluya dos columnas una para el nombre del\n",
    "estudiante y la otra para el promedio de las notas de las asignaturas.\n",
    "\n",
    "1. Importamos las librerias que utilizaremos"
   ]
  },
  {
   "cell_type": "code",
   "execution_count": null,
   "metadata": {},
   "outputs": [],
   "source": [
    "import pandas as pd\n",
    "import matplotlib.pyplot as plt"
   ]
  },
  {
   "cell_type": "markdown",
   "metadata": {},
   "source": [
    "2. Definimos la lista de calificaciones de los estudiantes"
   ]
  },
  {
   "cell_type": "code",
   "execution_count": null,
   "metadata": {},
   "outputs": [],
   "source": [
    "calificaciones = [\n",
    "{\"nombre\": \"Juan\", \"matematicas\": 85, \"ciencias\": 90,\n",
    "\"historia\": 75},\n",
    "{\"nombre\": \"María\", \"matematicas\": 70, \"ciencias\": 80,\n",
    "\"historia\": 85},\n",
    "{\"nombre\": \"Pedro\", \"matematicas\": 95, \"ciencias\": 75,\n",
    "\"historia\": 90},\n",
    "{\"nombre\": \"Ana\", \"matematicas\": 80, \"ciencias\": 85, \"historia\":\n",
    "80},\n",
    "{\"nombre\": \"Luis\", \"matematicas\": 75, \"ciencias\": 70,\n",
    "\"historia\": 95},\n",
    "{\"nombre\": \"Sofía\", \"matematicas\": 90, \"ciencias\": 85,\n",
    "\"historia\": 75},\n",
    "{\"nombre\": \"Carlos\", \"matematicas\": 85, \"ciencias\": 90,\n",
    "\"historia\": 80},\n",
    "{\"nombre\": \"Elena\", \"matematicas\": 70, \"ciencias\": 75,\n",
    "\"historia\": 85},\n",
    "{\"nombre\": \"Javier\", \"matematicas\": 80, \"ciencias\": 85,\n",
    "\"historia\": 90},\n",
    "{\"nombre\": \"Laura\", \"matematicas\": 75, \"ciencias\": 70,\n",
    "\"historia\": 95},\n",
    "{\"nombre\": \"Diego\", \"matematicas\": 90, \"ciencias\": 85,\n",
    "\"historia\": 75},\n",
    "{\"nombre\": \"Paula\", \"matematicas\": 85, \"ciencias\": 90,\n",
    "\"historia\": 80},\n",
    "{\"nombre\": \"Carmen\", \"matematicas\": 70, \"ciencias\": 75,\n",
    "\"historia\": 85}\n",
    "]"
   ]
  },
  {
   "cell_type": "markdown",
   "metadata": {},
   "source": [
    "3. Creamos el dataframe para poder procesar los datos con pandas"
   ]
  },
  {
   "cell_type": "code",
   "execution_count": null,
   "metadata": {},
   "outputs": [],
   "source": [
    "df = pd.DataFrame(calificaciones, columns=[\"nombre\", \"matematicas\", \"ciencias\", \"historia\"])"
   ]
  },
  {
   "cell_type": "markdown",
   "metadata": {},
   "source": [
    "4. Utilizamos .mean para calcular el promedio de cada asignatura y la mostramos"
   ]
  },
  {
   "cell_type": "code",
   "execution_count": null,
   "metadata": {},
   "outputs": [],
   "source": [
    "print(\"Promedio matematicas: \",df['matematicas'].mean())\n",
    "print(\"Promedio ciencias: \",df['ciencias'].mean())\n",
    "print(\"Promedio historia: \", df['historia'].mean())"
   ]
  },
  {
   "cell_type": "markdown",
   "metadata": {},
   "source": [
    "5.  Calcula las calificaciones máximas para cada asignatura"
   ]
  },
  {
   "cell_type": "code",
   "execution_count": null,
   "metadata": {},
   "outputs": [],
   "source": [
    "calificaciones_maximas_por_asignatura = df.max()"
   ]
  },
  {
   "cell_type": "markdown",
   "metadata": {},
   "source": [
    "6. Imprimimos un encabezado para indicar que se imprimira a continuacion"
   ]
  },
  {
   "cell_type": "code",
   "execution_count": null,
   "metadata": {},
   "outputs": [],
   "source": [
    "print(\"Estudiantes con las calificaciones más altas por asignatura:\")"
   ]
  },
  {
   "cell_type": "markdown",
   "metadata": {},
   "source": [
    "7.  ● Itera sobre cada asignatura en el DataFrame, comenzando desde la segunda columna (la primera columna es el nombre del estudiante)\n",
    "\n",
    "    ● Encuentra al estudiante que obtuvo la calificación máxima en esa asignatura específica\n",
    "\n",
    "    ● Imprime el nombre de la asignatura, el nombre del estudiante y la calificación máxima obtenida\n",
    "    \n",
    "    ● Finalmente, imprime un salto de línea para separar las salidas."
   ]
  },
  {
   "cell_type": "code",
   "execution_count": null,
   "metadata": {},
   "outputs": [],
   "source": [
    "for asignatura in df.columns[1:]:\n",
    "    estudiante = df[df[asignatura] == calificaciones_maximas_por_asignatura[asignatura]]['nombre'].values[0]\n",
    "    calificacion = calificaciones_maximas_por_asignatura[asignatura]\n",
    "    print(f\"{asignatura}: {estudiante} - {calificacion}\")\n",
    "print()"
   ]
  },
  {
   "cell_type": "markdown",
   "metadata": {},
   "source": [
    "8.  ● Eliminamos la columna 'nombre' del DataFrame para no incluirla en el cálculo\n",
    "\n",
    "    ● Luego, comparamos las calificaciones de cada asignatura con 60 para determinar quiénes aprobaron (calificación igual o superior a 60)\n",
    "\n",
    "    ● Calcula el promedio de los valores resultantes para obtener el porcentaje de estudiantes que aprobaron cada asignatura\n",
    "\n",
    "    ● Finalmente, multiplica este porcentaje por 100 para obtener el resultado en formato de porcentaje"
   ]
  },
  {
   "cell_type": "code",
   "execution_count": null,
   "metadata": {},
   "outputs": [],
   "source": [
    "porcentaje_aprobados_por_asignatura = (df.drop('nombre', axis=1) >= 60).mean() * 100"
   ]
  },
  {
   "cell_type": "markdown",
   "metadata": {},
   "source": [
    "9. Imprime el porcentaje de estudiantes que aprobaron cada asignatura"
   ]
  },
  {
   "cell_type": "code",
   "execution_count": null,
   "metadata": {},
   "outputs": [],
   "source": [
    "print(\"Porcentaje de estudiantes que aprobaron cada asignatura:\")\n",
    "print(porcentaje_aprobados_por_asignatura)"
   ]
  },
  {
   "cell_type": "markdown",
   "metadata": {},
   "source": [
    "10. Calcular el promedio de calificaciones para cada estudiante"
   ]
  },
  {
   "cell_type": "code",
   "execution_count": null,
   "metadata": {},
   "outputs": [],
   "source": [
    "df['promedio'] = df[['matematicas', 'ciencias', 'historia']].mean(axis=1)"
   ]
  },
  {
   "cell_type": "markdown",
   "metadata": {},
   "source": [
    "11. Crear un DataFrame con el nombre del estudiante y su promedio de notas"
   ]
  },
  {
   "cell_type": "code",
   "execution_count": null,
   "metadata": {},
   "outputs": [],
   "source": [
    "df_promedio = df[['nombre', 'promedio']]"
   ]
  },
  {
   "cell_type": "markdown",
   "metadata": {},
   "source": [
    "12. Mostrar el DataFrame"
   ]
  },
  {
   "cell_type": "code",
   "execution_count": null,
   "metadata": {},
   "outputs": [],
   "source": [
    "print(\"DataFrame con el nombre del estudiante y su promedio de notas:\")\n",
    "print(df_promedio)"
   ]
  },
  {
   "cell_type": "markdown",
   "metadata": {},
   "source": [
    "## 4) Ejercicio de Gráficos (2,5)\n",
    "\n",
    "Basándote en el DataFrame creado. Utiliza un gráfico de barras donde el eje x\n",
    "represente los nombres de los estudiantes y el eje y represente el promedio de las\n",
    "calificaciones.\n",
    "\n",
    "#### Crear un gráfico de barras utilizando los datos del DataFrame\n",
    "\n",
    "1. Crear barras con el promedio de calificaciones, con color de barra skyblue"
   ]
  },
  {
   "cell_type": "code",
   "execution_count": null,
   "metadata": {},
   "outputs": [],
   "source": [
    "plt.bar(df_promedio['nombre'], df_promedio['promedio'], color='skyblue')"
   ]
  },
  {
   "cell_type": "markdown",
   "metadata": {},
   "source": [
    "2. Agregar etiqueta 'Estudiantes' al eje x"
   ]
  },
  {
   "cell_type": "code",
   "execution_count": null,
   "metadata": {},
   "outputs": [],
   "source": [
    "plt.xlabel('Estudiantes')"
   ]
  },
  {
   "cell_type": "markdown",
   "metadata": {},
   "source": [
    "3.  Agregar etiqueta 'Promedio de Calificaciones' al eje y"
   ]
  },
  {
   "cell_type": "code",
   "execution_count": null,
   "metadata": {},
   "outputs": [],
   "source": [
    "plt.ylabel('Promedio de Calificaciones')"
   ]
  },
  {
   "cell_type": "markdown",
   "metadata": {},
   "source": [
    "4. Agregar título 'Promedio de Calificaciones por Estudiante' al gráfico"
   ]
  },
  {
   "cell_type": "code",
   "execution_count": null,
   "metadata": {},
   "outputs": [],
   "source": [
    "plt.title('Promedio de Calificaciones por Estudiante')"
   ]
  },
  {
   "cell_type": "markdown",
   "metadata": {},
   "source": [
    "5. Rotar las etiquetas del eje x 45 grados hacia la derecha"
   ]
  },
  {
   "cell_type": "code",
   "execution_count": null,
   "metadata": {},
   "outputs": [],
   "source": [
    "plt.xticks(rotation=45, ha='right')"
   ]
  },
  {
   "cell_type": "markdown",
   "metadata": {},
   "source": [
    "6. Agregar una grilla horizontal punteada con opacidad 0.7"
   ]
  },
  {
   "cell_type": "code",
   "execution_count": null,
   "metadata": {},
   "outputs": [],
   "source": [
    "plt.grid(axis='y', linestyle='--', alpha=0.7)"
   ]
  },
  {
   "cell_type": "markdown",
   "metadata": {},
   "source": [
    "7. Ajustar el diseño del gráfico para que quepa correctamente"
   ]
  },
  {
   "cell_type": "code",
   "execution_count": null,
   "metadata": {},
   "outputs": [],
   "source": [
    "plt.tight_layout()"
   ]
  },
  {
   "cell_type": "markdown",
   "metadata": {},
   "source": [
    "8. Mostrar el gráfico"
   ]
  },
  {
   "cell_type": "code",
   "execution_count": null,
   "metadata": {},
   "outputs": [],
   "source": [
    "plt.show()"
   ]
  }
 ],
 "metadata": {
  "kernelspec": {
   "display_name": "Python 3",
   "language": "python",
   "name": "python3"
  },
  "language_info": {
   "name": "python",
   "version": "3.12.2"
  }
 },
 "nbformat": 4,
 "nbformat_minor": 2
}
